{
  "nbformat": 4,
  "nbformat_minor": 0,
  "metadata": {
    "colab": {
      "name": "Untitled3.ipynb",
      "provenance": [],
      "authorship_tag": "ABX9TyPoDxp8ZDQKfa+6HzoFwywG",
      "include_colab_link": true
    },
    "kernelspec": {
      "name": "python3",
      "display_name": "Python 3"
    }
  },
  "cells": [
    {
      "cell_type": "markdown",
      "metadata": {
        "id": "view-in-github",
        "colab_type": "text"
      },
      "source": [
        "<a href=\"https://colab.research.google.com/github/Prathiksha-13/my-contribution/blob/master/Untitled3.ipynb\" target=\"_parent\"><img src=\"https://colab.research.google.com/assets/colab-badge.svg\" alt=\"Open In Colab\"/></a>"
      ]
    },
    {
      "cell_type": "code",
      "metadata": {
        "id": "wuwq70Sfwc3G",
        "colab_type": "code",
        "colab": {
          "base_uri": "https://localhost:8080/",
          "height": 129
        },
        "outputId": "ee34e86e-8b9d-4816-b5ff-b461334da94e"
      },
      "source": [
        "file = 'doc.txt'\n",
        "num_lines = 0\n",
        "with open(file, 'r') as f:\n",
        "    for line in f:\n",
        "        num_lines += 1\n",
        "print(\"Number of lines:\")\n",
        "print(num_lines)\n",
        "Number of licens:\n",
        "5\n",
        "\n",
        "In [3]:\n",
        "file = 'doc.txt'\n",
        "#fname = input(\"Enter file name: \")\n",
        "num_words = 0\n",
        "with open(file, 'r') as f:\n",
        "    for line in f:\n",
        "        words = line.split()\n",
        "        num_words += len(words)\n",
        "print(\"Number of words:\")\n",
        "print(num_words)\n",
        "Number of words:\n",
        "9\n",
        "In [5]:\n",
        "file = 'doc.txt'\n",
        "word=input(\"Enter word to be searched:\")\n",
        "k = 0\n",
        "\n",
        "with open(file, 'r') as f:\n",
        "    for line in f:\n",
        "        words = line.split()\n",
        "        for i in words:\n",
        "            if(i==word):\n",
        "                k=k+1\n",
        "print(\"Occurrences of the word:\")\n",
        "print(k)\n",
        "Enter word to be searched:lines\n",
        "Occurrences of the word:\n",
        "1\n",
        "In [6]:\n",
        "file = 'doc.txt'\n",
        "with open (file,'r') as f:\n",
        "    for line in f:\n",
        "        l=line.split()\n",
        "        l.reverse() \n",
        "        st= \" \".join(l)\n",
        "        print (st)\n",
        "count\n",
        "the\n",
        "no\n",
        "of\n",
        "files text this in lines\n",
        "In [26]:\n",
        "#Get  a string and store word by word as elements in a tuple and find the largest word in the  tuple and print it\n",
        "t = []\n",
        "n = int(input(\"Enter the number of word\"))\n",
        "for i in range(0,n):\n",
        "  ele = input(\"Enter Word\")\n",
        "  t.append(ele)\n",
        "words = sorted(t, key=len)\n",
        "print(words[-1])\n",
        "Enter the number of word2\n",
        "Enter Wordtreeee\n",
        "Enter Word2\n",
        "treeee\n",
        "In [27]:\n",
        "dir(tuple)\n",
        "help(tuple.index)\n",
        "Help on method_descriptor:\n",
        "\n",
        "index(...)\n",
        "    T.index(value, [start, [stop]]) -> integer -- return first index of value.\n",
        "    Raises ValueError if the value is not present.\n"
      ],
      "execution_count": 1,
      "outputs": [
        {
          "output_type": "error",
          "ename": "SyntaxError",
          "evalue": "ignored",
          "traceback": [
            "\u001b[0;36m  File \u001b[0;32m\"<ipython-input-1-301b9f335e74>\"\u001b[0;36m, line \u001b[0;32m8\u001b[0m\n\u001b[0;31m    Number of lines:\u001b[0m\n\u001b[0m            ^\u001b[0m\n\u001b[0;31mSyntaxError\u001b[0m\u001b[0;31m:\u001b[0m invalid syntax\n"
          ]
        }
      ]
    },
    {
      "cell_type": "code",
      "metadata": {
        "id": "MkPfq4nDwfOI",
        "colab_type": "code",
        "colab": {}
      },
      "source": [
        ""
      ],
      "execution_count": null,
      "outputs": []
    }
  ]
}